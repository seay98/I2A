{
 "cells": [
  {
   "cell_type": "markdown",
   "id": "d308387a-4716-4365-b461-c0ba87f6b9f5",
   "metadata": {},
   "source": [
    "## 快速排序 Quick Sort"
   ]
  },
  {
   "cell_type": "code",
   "execution_count": 2,
   "id": "6a4188eb-20b4-462f-b863-7d083f604418",
   "metadata": {},
   "outputs": [],
   "source": [
    "def Partition(A, p, r):\n",
    "    x = A[r]\n",
    "    i = p - 1\n",
    "    for j in range(p, r):\n",
    "        if A[j] <= x:\n",
    "            i = i + 1\n",
    "            A[j], A[i] = A[i], A[j]\n",
    "    A[i+1], A[r] = A[r], A[i+1]\n",
    "    return i+1\n",
    "\n",
    "def QuickSort(A, p, r):\n",
    "    if p < r:\n",
    "        q = Partition(A, p, r)\n",
    "        QuickSort(A, p, q-1)\n",
    "        QuickSort(A, q+1, r)\n",
    "        \n",
    "def convertA(A):\n",
    "    return [0] + A\n",
    "\n",
    "def recoverA(A):\n",
    "    return A[1:]"
   ]
  },
  {
   "cell_type": "code",
   "execution_count": 37,
   "id": "b21aa8af-7598-4a0f-bc5f-bd7f72a0b36e",
   "metadata": {},
   "outputs": [
    {
     "name": "stdout",
     "output_type": "stream",
     "text": [
      "[3, 4, 4, 5, 6, 8, 9, 9, 10, 11, 11, 11, 12, 13, 14, 15, 16, 16, 16, 18, 19, 20, 21, 22, 22, 22, 23, 24, 24, 25, 28, 29, 30, 30, 31, 31, 32, 33, 33, 33, 34, 34, 34, 37, 39, 41, 43, 44, 45, 45, 46, 46, 47, 47, 47, 48, 48, 48, 49, 50, 52, 52, 53, 53, 53, 53, 54, 55, 56, 56, 57, 57, 58, 58, 58, 59, 60, 60, 62, 62, 65, 65, 65, 67, 67, 68, 68, 69, 69, 71, 73, 73, 74, 74, 74, 75, 75, 75, 78, 80]\n",
      "0.0003535747528076172\n"
     ]
    }
   ],
   "source": [
    "import time\n",
    "\n",
    "A = [33, 16, 25, 78, 34, 62, 65, 15, 6, 9, 16, 57, 13, 53, 53, 34, 24, 65, 68, 75, 39, 50, 47, 24, 60, 56, 45, 37, 47, 48, 32, 33, 60, 48, 28, 74, 75, 62, 55, 21, 3, 4, 11, 30, 69, 45, 56, 20, 12, 58, 75, 67, 41, 14, 4, 31, 74, 19, 68, 18, 53, 53, 80, 30, 73, 29, 59, 23, 74, 46, 65, 22, 5, 52, 52, 11, 69, 46, 11, 10, 54, 48, 73, 71, 44, 43, 9, 58, 67, 34, 49, 31, 16, 22, 8, 47, 33, 57, 58, 22]\n",
    "A = convertA(A)\n",
    "\n",
    "start = time.time()\n",
    "QuickSort(A, 1, len(A)-1)\n",
    "end = time.time()\n",
    "\n",
    "A = recoverA(A)\n",
    "\n",
    "print(A)\n",
    "print(end-start)"
   ]
  },
  {
   "cell_type": "code",
   "execution_count": null,
   "id": "8cef615c-adaf-489c-bad9-46bf0b1be912",
   "metadata": {},
   "outputs": [],
   "source": []
  }
 ],
 "metadata": {
  "kernelspec": {
   "display_name": "Python 3 (ipykernel)",
   "language": "python",
   "name": "python3"
  },
  "language_info": {
   "codemirror_mode": {
    "name": "ipython",
    "version": 3
   },
   "file_extension": ".py",
   "mimetype": "text/x-python",
   "name": "python",
   "nbconvert_exporter": "python",
   "pygments_lexer": "ipython3",
   "version": "3.10.9"
  }
 },
 "nbformat": 4,
 "nbformat_minor": 5
}
