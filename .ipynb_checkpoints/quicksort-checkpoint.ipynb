{
 "cells": [
  {
   "cell_type": "markdown",
   "id": "d308387a-4716-4365-b461-c0ba87f6b9f5",
   "metadata": {},
   "source": [
    "## 快速排序 Quick Sort"
   ]
  },
  {
   "cell_type": "code",
   "execution_count": 2,
   "id": "6a4188eb-20b4-462f-b863-7d083f604418",
   "metadata": {},
   "outputs": [],
   "source": [
    "def Partition(A, p, r):\n",
    "    x = A[r]\n",
    "    i = p - 1\n",
    "    for j in range(p, r):\n",
    "        if A[j] <= x:\n",
    "            i = i + 1\n",
    "            A[j], A[i] = A[i], A[j]\n",
    "    A[i+1], A[r] = A[r], A[i+1]\n",
    "    return i+1\n",
    "\n",
    "def QuickSort(A, p, r):\n",
    "    if p < r:\n",
    "        q = Partition(A, p, r)\n",
    "        QuickSort(A, p, q-1)\n",
    "        QuickSort(A, q+1, r)\n",
    "        \n",
    "def convertA(A):\n",
    "    return [0] + A\n",
    "\n",
    "def recoverA(A):\n",
    "    return A[1:]"
   ]
  },
  {
   "cell_type": "code",
   "execution_count": 12,
   "id": "b21aa8af-7598-4a0f-bc5f-bd7f72a0b36e",
   "metadata": {},
   "outputs": [
    {
     "name": "stdout",
     "output_type": "stream",
     "text": [
      "[1, 2, 3, 4, 5, 6, 7, 8]\n",
      "0.00023126602172851562\n"
     ]
    }
   ],
   "source": [
    "import time\n",
    "\n",
    "A = [2,8,7,1,3,5,6,4]\n",
    "A = convertA(A)\n",
    "\n",
    "start = time.time()\n",
    "QuickSort(A, 1, len(A)-1)\n",
    "end = time.time()\n",
    "\n",
    "A = recoverA(A)\n",
    "print(A)\n",
    "print(end-start)"
   ]
  },
  {
   "cell_type": "code",
   "execution_count": null,
   "id": "8cef615c-adaf-489c-bad9-46bf0b1be912",
   "metadata": {},
   "outputs": [],
   "source": []
  }
 ],
 "metadata": {
  "kernelspec": {
   "display_name": "Python 3 (ipykernel)",
   "language": "python",
   "name": "python3"
  },
  "language_info": {
   "codemirror_mode": {
    "name": "ipython",
    "version": 3
   },
   "file_extension": ".py",
   "mimetype": "text/x-python",
   "name": "python",
   "nbconvert_exporter": "python",
   "pygments_lexer": "ipython3",
   "version": "3.10.9"
  }
 },
 "nbformat": 4,
 "nbformat_minor": 5
}
