{
 "cells": [
  {
   "cell_type": "markdown",
   "id": "13ee8f77-ca1c-44e1-8e88-5357b38b19e5",
   "metadata": {},
   "source": [
    "## 计数排序 Counting-Sort"
   ]
  },
  {
   "cell_type": "code",
   "execution_count": 2,
   "id": "3c93568f-099a-4ff3-b8d9-2ca7b264b617",
   "metadata": {},
   "outputs": [],
   "source": [
    "def CountingSort(A, n, k):\n",
    "    B, C = [0]*n, [0]*k\n",
    "    for j in range(1, n):\n",
    "        C[A[j]] = C[A[j]] + 1\n",
    "    for i in range(1, k):\n",
    "        C[i] = C[i] + C[i-1]\n",
    "    for j in range(n, 0, -1):\n",
    "        B[C[A[j]]] = A[j]\n",
    "        C[A[j]] = C[A[j]] - 1\n",
    "    return B\n",
    "\n",
    "def convertA(A):\n",
    "    return [0] + A\n",
    "\n",
    "def recoverA(A):\n",
    "    return A[1:]"
   ]
  },
  {
   "cell_type": "code",
   "execution_count": 40,
   "id": "4021574b-be6f-405d-888b-b572cdb37c17",
   "metadata": {},
   "outputs": [
    {
     "name": "stdout",
     "output_type": "stream",
     "text": [
      "[3, 4, 4, 5, 6, 8, 9, 9, 10, 11, 11, 11, 12, 13, 14, 15, 16, 16, 16, 18, 19, 20, 21, 22, 22, 23, 24, 24, 25, 28, 29, 30, 30, 31, 31, 32, 33, 33, 33, 34, 34, 34, 37, 39, 41, 43, 44, 45, 45, 46, 46, 47, 47, 47, 48, 48, 48, 49, 50, 52, 52, 53, 53, 53, 53, 54, 55, 56, 56, 57, 57, 58, 58, 58, 59, 60, 60, 62, 62, 65, 65, 65, 67, 67, 68, 68, 69, 69, 71, 73, 73, 74, 74, 74, 75, 75, 75, 78, 80]\n",
      "0.000568389892578125\n"
     ]
    }
   ],
   "source": [
    "import time\n",
    "\n",
    "A = [33, 16, 25, 78, 34, 62, 65, 15, 6, 9, 16, 57, 13, 53, 53, 34, 24, 65, 68, 75, 39, 50, 47, 24, 60, 56, 45, 37, 47, 48, 32, 33, 60, 48, 28, 74, 75, 62, 55, 21, 3, 4, 11, 30, 69, 45, 56, 20, 12, 58, 75, 67, 41, 14, 4, 31, 74, 19, 68, 18, 53, 53, 80, 30, 73, 29, 59, 23, 74, 46, 65, 22, 5, 52, 52, 11, 69, 46, 11, 10, 54, 48, 73, 71, 44, 43, 9, 58, 67, 34, 49, 31, 16, 22, 8, 47, 33, 57, 58, 22]\n",
    "A = convertA(A)\n",
    "\n",
    "start = time.time()\n",
    "A = CountingSort(A, len(A)-1, 100)\n",
    "end = time.time()\n",
    "\n",
    "A = recoverA(A)\n",
    "\n",
    "print(A)\n",
    "print(end-start)"
   ]
  },
  {
   "cell_type": "code",
   "execution_count": 33,
   "id": "56781869-5ce1-429b-84aa-f2ade0be9393",
   "metadata": {},
   "outputs": [
    {
     "name": "stdout",
     "output_type": "stream",
     "text": [
      "[33, 16, 25, 78, 34, 62, 65, 15, 6, 9, 16, 57, 13, 53, 53, 34, 24, 65, 68, 75, 39, 50, 47, 24, 60, 56, 45, 37, 47, 48, 32, 33, 60, 48, 28, 74, 75, 62, 55, 21, 3, 4, 11, 30, 69, 45, 56, 20, 12, 58, 75, 67, 41, 14, 4, 31, 74, 19, 68, 18, 53, 53, 80, 30, 73, 29, 59, 23, 74, 46, 65, 22, 5, 52, 52, 11, 69, 46, 11, 10, 54, 48, 73, 71, 44, 43, 9, 58, 67, 34, 49, 31, 16, 22, 8, 47, 33, 57, 58, 22]\n"
     ]
    }
   ],
   "source": [
    "import random\n",
    "\n",
    "rand_list=[]\n",
    "n=100\n",
    "for i in range(n):\n",
    "    rand_list.append(random.randint(3,80))\n",
    "print(rand_list)\n"
   ]
  },
  {
   "cell_type": "code",
   "execution_count": null,
   "id": "d5ef297e-83dc-4624-a7c8-15822d939a3d",
   "metadata": {},
   "outputs": [],
   "source": []
  }
 ],
 "metadata": {
  "kernelspec": {
   "display_name": "Python 3 (ipykernel)",
   "language": "python",
   "name": "python3"
  },
  "language_info": {
   "codemirror_mode": {
    "name": "ipython",
    "version": 3
   },
   "file_extension": ".py",
   "mimetype": "text/x-python",
   "name": "python",
   "nbconvert_exporter": "python",
   "pygments_lexer": "ipython3",
   "version": "3.10.9"
  }
 },
 "nbformat": 4,
 "nbformat_minor": 5
}
